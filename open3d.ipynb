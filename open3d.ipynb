{
  "cells": [
    {
      "cell_type": "code",
      "execution_count": null,
      "id": "1e04a2a7",
      "metadata": {
        "id": "1e04a2a7",
        "outputId": "233d358e-6000-41ab-abfd-9e026c507a37"
      },
      "outputs": [
        {
          "name": "stdout",
          "output_type": "stream",
          "text": [
            "Jupyter environment detected. Enabling Open3D WebVisualizer.\n",
            "[Open3D INFO] WebRTC GUI backend enabled.\n",
            "[Open3D INFO] WebRTCWindowSystem: HTTP handshake server disabled.\n"
          ]
        }
      ],
      "source": [
        "import open3d as o3d\n",
        "import numpy as np"
      ]
    },
    {
      "cell_type": "code",
      "execution_count": null,
      "id": "12cec782",
      "metadata": {
        "id": "12cec782",
        "outputId": "6d3107a5-9ba4-451c-8c11-0dc417e4ed4a"
      },
      "outputs": [
        {
          "name": "stdout",
          "output_type": "stream",
          "text": [
            "PointCloud with 190798 points.\n",
            "[[ 2.26171875 -0.09253075  1.47265625]\n",
            " [ 2.25390625 -0.09085231  1.47265625]\n",
            " [ 2.26171875 -0.09179753  1.48046875]\n",
            " ...\n",
            " [ 0.12109375  0.40638293  1.48828125]\n",
            " [ 0.12109375  0.40615749  1.49609375]\n",
            " [ 0.12780817  0.38671875  1.49609375]]\n"
          ]
        }
      ],
      "source": [
        "pcd = o3d.io.read_point_cloud(\"fragment_000.ply\")\n",
        "print(pcd)\n",
        "print(np.asarray(pcd.points))\n",
        "o3d.visualization.draw_geometries([pcd])"
      ]
    },
    {
      "cell_type": "code",
      "execution_count": null,
      "id": "bb26dee0",
      "metadata": {
        "id": "bb26dee0",
        "outputId": "8014420a-23a9-4439-9db4-d42bc285e9eb"
      },
      "outputs": [
        {
          "name": "stdout",
          "output_type": "stream",
          "text": [
            "Original point cloud has 190798 points\n"
          ]
        }
      ],
      "source": [
        "print(\"Original point cloud has\", len(pcd.points), \"points\")\n"
      ]
    },
    {
      "cell_type": "markdown",
      "id": "e2242c0f",
      "metadata": {
        "id": "e2242c0f"
      },
      "source": [
        "DownSample"
      ]
    },
    {
      "cell_type": "code",
      "execution_count": null,
      "id": "a6c6bed1",
      "metadata": {
        "id": "a6c6bed1",
        "outputId": "663005f1-3c0a-470e-f844-7ae8dcdb9723"
      },
      "outputs": [
        {
          "name": "stdout",
          "output_type": "stream",
          "text": [
            "Downsample the point cloud with a voxel of 0.001\n"
          ]
        }
      ],
      "source": [
        "import open3d as o3d\n",
        "\n",
        "print(\"Downsample the point cloud with a voxel of 0.001\")\n",
        "downpcd = pcd.voxel_down_sample(voxel_size=0.05)\n",
        "\n",
        "o3d.visualization.draw_geometries(\n",
        "    [downpcd],\n",
        "    zoom=0.8,\n",
        "    front=[0.4257, -0.2125, -0.8795],\n",
        "    lookat=[2.6172, 2.0475, 1.532],\n",
        "    up=[-0.0694, -0.9768, 0.2024]\n",
        ")\n"
      ]
    },
    {
      "cell_type": "markdown",
      "id": "3e256c1c",
      "metadata": {
        "id": "3e256c1c"
      },
      "source": [
        "Vertex Normal Extimation"
      ]
    },
    {
      "cell_type": "code",
      "execution_count": null,
      "id": "84696e60",
      "metadata": {
        "id": "84696e60",
        "outputId": "22977911-ee9d-424c-9ca7-aea90ca7c7b5"
      },
      "outputs": [
        {
          "name": "stdout",
          "output_type": "stream",
          "text": [
            "Recompute the normal of the downsampled point cloud\n"
          ]
        }
      ],
      "source": [
        "print(\"Recompute the normal of the downsampled point cloud\")\n",
        "\n",
        "downpcd.estimate_normals(\n",
        "    search_param=o3d.geometry.KDTreeSearchParamHybrid(radius=0.1, max_nn=30)\n",
        ")\n",
        "\n",
        "o3d.visualization.draw_geometries(\n",
        "    [downpcd],\n",
        "    # zoom=0.3412,\n",
        "    # front=[0.4257, -0.2125, -0.8795],\n",
        "    # lookat=[2.6172, 2.0475, 1.532],\n",
        "    # up=[-0.0694, -0.9768, 0.2024],\n",
        "    point_show_normal=True\n",
        ")\n"
      ]
    },
    {
      "cell_type": "markdown",
      "id": "ee8d4166",
      "metadata": {
        "id": "ee8d4166"
      },
      "source": [
        "Point Cloud Outlier Removal"
      ]
    },
    {
      "cell_type": "code",
      "execution_count": null,
      "id": "7f31cda1",
      "metadata": {
        "id": "7f31cda1",
        "outputId": "0b803149-a0b5-40c6-ec42-a45ec1a1aa95"
      },
      "outputs": [
        {
          "name": "stdout",
          "output_type": "stream",
          "text": [
            "Load a ply point cloud, print it, and render it\n",
            "Downsample the point cloud with a voxel of 0.02\n"
          ]
        }
      ],
      "source": [
        "import open3d as o3d\n",
        "\n",
        "print(\"Load a ply point cloud, print it, and render it\")\n",
        "pcd = o3d.io.read_point_cloud(\"fragment_000.ply\")\n",
        "o3d.visualization.draw_geometries([pcd])\n",
        "\n",
        "print(\"Downsample the point cloud with a voxel of 0.02\")\n",
        "voxel_down_pcd = pcd.voxel_down_sample(voxel_size=0.05)\n",
        "o3d.visualization.draw_geometries([voxel_down_pcd])\n",
        ""
      ]
    },
    {
      "cell_type": "code",
      "execution_count": null,
      "id": "98e752b3",
      "metadata": {
        "id": "98e752b3",
        "outputId": "02298334-f9ae-40dc-e788-0c86193b9983"
      },
      "outputs": [
        {
          "name": "stdout",
          "output_type": "stream",
          "text": [
            "Every 5th points are selected\n"
          ]
        }
      ],
      "source": [
        "#downsample\n",
        "print(\"Every 5th points are selected\")\n",
        "uni_down_sample = pcd.uniform_down_sample(every_k_points = 9)\n",
        "o3d.visualization.draw_geometries([uni_down_sample])"
      ]
    },
    {
      "cell_type": "code",
      "execution_count": null,
      "id": "777d8604",
      "metadata": {
        "id": "777d8604",
        "outputId": "ff12f50e-c7e5-4d7e-f121-97359a94a0f8"
      },
      "outputs": [
        {
          "name": "stdout",
          "output_type": "stream",
          "text": [
            "Statistical outlier removal\n",
            "Showing outliers (red) and inliers (gray): \n",
            "Displaying cleaned point cloud\n",
            "Original points: 5027\n",
            "Inlier points: 4556\n",
            "Outlier points: 471\n",
            "Outliers removed: 9.37%\n"
          ]
        }
      ],
      "source": [
        "import open3d as o3d\n",
        "\n",
        "def display_inlier_outlier_controlled(cloud, ind, zoom=0.5):\n",
        "    inlier_cloud = cloud.select_by_index(ind)\n",
        "    outlier_cloud = cloud.select_by_index(ind, invert=True)\n",
        "\n",
        "    print(\"Showing outliers (red) and inliers (gray): \")\n",
        "    outlier_cloud.paint_uniform_color([1, 0, 0])\n",
        "    inlier_cloud.paint_uniform_color([0.8, 0.8, 0.8])\n",
        "\n",
        "    # More reasonable viewing parameters for better control\n",
        "    o3d.visualization.draw_geometries([inlier_cloud, outlier_cloud],\n",
        "                                    zoom=zoom,\n",
        "                                    window_name=\"Outlier Detection Results\")\n",
        "\n",
        "    return inlier_cloud, outlier_cloud\n",
        "\n",
        "# Statistical outlier removal\n",
        "print(\"Statistical outlier removal\")\n",
        "cl, ind = voxel_down_pcd.remove_statistical_outlier(nb_neighbors=20, std_ratio=1.0)\n",
        "\n",
        "# Display with better zoom control\n",
        "inliers, outliers = display_inlier_outlier_controlled(voxel_down_pcd, ind, zoom=0.8)\n",
        "\n",
        "# Show just the cleaned point cloud\n",
        "print(\"Displaying cleaned point cloud\")\n",
        "o3d.visualization.draw_geometries([cl],\n",
        "                                window_name=\"Cleaned Point Cloud\",\n",
        "                                zoom=0.8)\n",
        "\n",
        "# Print statistics\n",
        "print(f\"Original points: {len(voxel_down_pcd.points)}\")\n",
        "print(f\"Inlier points: {len(cl.points)}\")\n",
        "print(f\"Outlier points: {len(outliers.points)}\")\n",
        "print(f\"Outliers removed: {len(outliers.points)/len(voxel_down_pcd.points)*100:.2f}%\")\n",
        "\n",
        "# Return the cleaned point cloud for further use\n",
        "cleaned_pcd = cl"
      ]
    },
    {
      "cell_type": "code",
      "execution_count": null,
      "id": "234e0a0a",
      "metadata": {
        "id": "234e0a0a",
        "outputId": "f55cc5f5-04bd-4459-b857-831a10d07bf9"
      },
      "outputs": [
        {
          "name": "stdout",
          "output_type": "stream",
          "text": [
            "Radius outlier removal\n",
            "Showing outliers (red) and inliers (gray): \n"
          ]
        }
      ],
      "source": [
        "# Radius outlier removal\n",
        "print(\"Radius outlier removal\")\n",
        "cl, ind = voxel_down_pcd.remove_radius_outlier(nb_points=15, radius=0.12)\n",
        "\n",
        "# Display with better zoom control\n",
        "inliers, outliers = display_inlier_outlier_controlled(voxel_down_pcd, ind, zoom=0.8)\n"
      ]
    },
    {
      "cell_type": "markdown",
      "id": "ee9fdf3c",
      "metadata": {
        "id": "ee9fdf3c"
      },
      "source": [
        "From depth maps to point clouds"
      ]
    },
    {
      "cell_type": "code",
      "execution_count": null,
      "id": "4c508d35",
      "metadata": {
        "id": "4c508d35",
        "outputId": "a9a808e6-0d69-4a45-ca2a-df76380aa648"
      },
      "outputs": [
        {
          "name": "stdout",
          "output_type": "stream",
          "text": [
            "Read own dataset\n",
            "RGBDImage of size \n",
            "Color image : 350x518, with 1 channels.\n",
            "Depth image : 350x518, with 1 channels.\n",
            "Use numpy.asarray to access buffer data.\n"
          ]
        }
      ],
      "source": [
        "import open3d as o3d\n",
        "import cv2\n",
        "import numpy as np\n",
        "\n",
        "print(\"Read own dataset\")\n",
        "\n",
        "# Read with OpenCV\n",
        "color_cv = cv2.imread(\"outdoor_image_1.png\")  # BGR format\n",
        "depth_cv = cv2.imread(\"outdoor_depth_1.png\", cv2.IMREAD_UNCHANGED)  # Should be single-channel\n",
        "\n",
        "# Resize color image to match depth image size\n",
        "depth_h, depth_w = depth_cv.shape[:2]\n",
        "color_resized = cv2.resize(color_cv, (depth_w, depth_h))\n",
        "\n",
        "# Convert from OpenCV (numpy array) to Open3D image\n",
        "color_o3d = o3d.geometry.Image(cv2.cvtColor(color_resized, cv2.COLOR_BGR2RGB))\n",
        "depth_o3d = o3d.geometry.Image(depth_cv)\n",
        "\n",
        "# Create RGBD image\n",
        "rgbd_image = o3d.geometry.RGBDImage.create_from_color_and_depth(\n",
        "    color_o3d, depth_o3d\n",
        ")\n",
        "\n",
        "# Print the RGBD image\n",
        "print(rgbd_image)\n"
      ]
    },
    {
      "cell_type": "code",
      "execution_count": null,
      "id": "7ac31171",
      "metadata": {
        "id": "7ac31171",
        "outputId": "615e7d71-a858-4679-fb51-52add874ae81"
      },
      "outputs": [
        {
          "name": "stdout",
          "output_type": "stream",
          "text": [
            "Read Redwood dataset\n",
            "RGBDImage of size \n",
            "Color image : 640x480, with 1 channels.\n",
            "Depth image : 640x480, with 1 channels.\n",
            "Use numpy.asarray to access buffer data.\n"
          ]
        }
      ],
      "source": [
        "import open3d as o3d\n",
        "\n",
        "print(\"Read Redwood dataset\")\n",
        "\n",
        "# Read the color image (JPEG format)\n",
        "color_raw = o3d.io.read_image(\"00000_image.jpg\")\n",
        "\n",
        "# Read the depth image (PNG format)\n",
        "depth_raw = o3d.io.read_image(\"00000_depth.png\")\n",
        "\n",
        "# Create an RGBD image from the color and depth images\n",
        "rgbd_image = o3d.geometry.RGBDImage.create_from_color_and_depth(\n",
        "    color_raw, depth_raw\n",
        ")\n",
        "\n",
        "# Print the RGBD image info\n",
        "print(rgbd_image)"
      ]
    },
    {
      "cell_type": "code",
      "execution_count": null,
      "id": "90fb7137",
      "metadata": {
        "id": "90fb7137",
        "outputId": "487d1762-3914-4329-ffca-1e3d3538e6b6"
      },
      "outputs": [
        {
          "data": {
            "image/png": "[encoded data removed]",
            "text/plain": [
              "<Figure size 640x480 with 2 Axes>"
            ]
          },
          "metadata": {},
          "output_type": "display_data"
        }
      ],
      "source": [
        "import matplotlib.pyplot as plt\n",
        "import open3d as o3d\n",
        "import numpy as np\n",
        "\n",
        "# Display RGBD images\n",
        "plt.subplot(1, 2, 1)\n",
        "plt.title('Redwood grayscale image')\n",
        "plt.imshow(np.asarray(rgbd_image.color))  # Convert Open3D image to numpy array\n",
        "\n",
        "plt.subplot(1, 2, 2)\n",
        "plt.title('Redwood depth image')\n",
        "plt.imshow(np.asarray(rgbd_image.depth))  # Convert Open3D image to numpy array\n",
        "\n",
        "plt.show()\n"
      ]
    },
    {
      "cell_type": "code",
      "execution_count": null,
      "id": "2827f692",
      "metadata": {
        "id": "2827f692"
      },
      "outputs": [],
      "source": [
        "### RGBD image to pcd using camera parameters\n",
        "import open3d as o3d\n",
        "\n",
        "# Create point cloud from RGBD image\n",
        "pcd = o3d.geometry.PointCloud.create_from_rgbd_image(\n",
        "    rgbd_image,\n",
        "    o3d.camera.PinholeCameraIntrinsic(\n",
        "        o3d.camera.PinholeCameraIntrinsicParameters.PrimeSenseDefault))\n",
        "\n",
        "# Flip it, otherwise the pointcloud will be upside down\n",
        "pcd.transform([[1, 0, 0, 0], [0, -1, 0, 0], [0, 0, -1, 0], [0, 0, 0, 1]])\n",
        "\n",
        "# Visualize the point cloud\n",
        "o3d.visualization.draw_geometries([pcd], zoom=0.5)"
      ]
    },
    {
      "cell_type": "markdown",
      "id": "25d062f0",
      "metadata": {
        "id": "25d062f0"
      },
      "source": [
        "Transform Depth Maps into Stunning Point Clouds"
      ]
    },
    {
      "cell_type": "code",
      "execution_count": null,
      "id": "13967454",
      "metadata": {
        "id": "13967454",
        "outputId": "83e99944-c54f-4f76-9dfd-0b48cb23be63"
      },
      "outputs": [
        {
          "name": "stdout",
          "output_type": "stream",
          "text": [
            "Read own dataset\n",
            "RGBDImage of size \n",
            "Color image : 640x480, with 1 channels.\n",
            "Depth image : 640x480, with 1 channels.\n",
            "Use numpy.asarray to access buffer data.\n"
          ]
        }
      ],
      "source": [
        "import open3d as o3d\n",
        "\n",
        "print(\"Read own dataset\")\n",
        "\n",
        "# Read the color image (JPEG format)\n",
        "color_raw = o3d.io.read_image(\"image_20250626_015447_001.jpg\")\n",
        "\n",
        "# Read the depth image (PNG format)\n",
        "depth_raw = o3d.io.read_image(\"depth_20250626_015447_001.jpg\")\n",
        "\n",
        "# Create an RGBD image from the color and depth images\n",
        "rgbd_image = o3d.geometry.RGBDImage.create_from_color_and_depth(\n",
        "    color_raw, depth_raw\n",
        ")\n",
        "\n",
        "# Print the RGBD image info\n",
        "print(rgbd_image)"
      ]
    },
    {
      "cell_type": "code",
      "execution_count": null,
      "id": "607d0ded",
      "metadata": {
        "id": "607d0ded",
        "outputId": "a8203514-df6c-4742-a623-4fe351763c76"
      },
      "outputs": [
        {
          "data": {
            "image/png": "[encoded data removed]",
            "text/plain": [
              "<Figure size 640x480 with 2 Axes>"
            ]
          },
          "metadata": {},
          "output_type": "display_data"
        }
      ],
      "source": [
        "import matplotlib.pyplot as plt\n",
        "import open3d as o3d\n",
        "import numpy as np\n",
        "\n",
        "# Display RGBD images\n",
        "plt.subplot(1, 2, 1)\n",
        "plt.title('own grayscale image')\n",
        "plt.imshow(np.asarray(rgbd_image.color))  # Convert Open3D image to numpy array\n",
        "\n",
        "plt.subplot(1, 2, 2)\n",
        "plt.title('own depth image')\n",
        "plt.imshow(np.asarray(rgbd_image.depth))  # Convert Open3D image to numpy array\n",
        "\n",
        "plt.show()\n"
      ]
    },
    {
      "cell_type": "code",
      "execution_count": null,
      "id": "6c6f173a",
      "metadata": {
        "id": "6c6f173a",
        "outputId": "291fc931-8ba4-41f1-95d5-bda97239cd63"
      },
      "outputs": [
        {
          "name": "stdout",
          "output_type": "stream",
          "text": [
            "[Open3D WARNING] GLFW Error: WGL: Failed to make context current: The handle is invalid. \n",
            "[Open3D WARNING] GLFW Error: WGL: Failed to make context current: The requested transformation operation is not supported. \n",
            "[Open3D WARNING] GLFW Error: WGL: Failed to make context current: The requested transformation operation is not supported. \n",
            "[Open3D WARNING] GLFW Error: WGL: Failed to make context current: The requested transformation operation is not supported. \n",
            "[Open3D WARNING] GLFW Error: WGL: Failed to make context current: The handle is invalid. \n",
            "[Open3D WARNING] GLFW Error: WGL: Failed to make context current: The requested transformation operation is not supported. \n",
            "[Open3D WARNING] GLFW Error: WGL: Failed to make context current: The requested transformation operation is not supported. \n",
            "[Open3D WARNING] GLFW Error: WGL: Failed to make context current: The requested transformation operation is not supported. \n",
            "[Open3D WARNING] GLFW Error: WGL: Failed to make context current: The requested transformation operation is not supported. \n"
          ]
        }
      ],
      "source": [
        "### RGBD image to pcd using camera parameters\n",
        "import open3d as o3d\n",
        "\n",
        "# Create point cloud from RGBD image\n",
        "pcd = o3d.geometry.PointCloud.create_from_rgbd_image(\n",
        "    rgbd_image,\n",
        "    o3d.camera.PinholeCameraIntrinsic(\n",
        "        o3d.camera.PinholeCameraIntrinsicParameters.PrimeSenseDefault))\n",
        "\n",
        "# Flip it, otherwise the pointcloud will be upside down\n",
        "pcd.transform([[1, 0, 0, 0], [0, -1, 0, 0], [0, 0, -1, 0], [0, 0, 0, 1]])\n",
        "\n",
        "# Visualize the point cloud\n",
        "o3d.visualization.draw_geometries([pcd], zoom=0.5)"
      ]
    },
    {
      "cell_type": "code",
      "execution_count": null,
      "id": "c76dd5e6",
      "metadata": {
        "id": "c76dd5e6",
        "outputId": "66783bad-a094-4136-e453-8685e23865b7"
      },
      "outputs": [
        {
          "name": "stdout",
          "output_type": "stream",
          "text": [
            "Camera Intrinsic Matrix:\n",
            "[[1.32332201e+03 0.00000000e+00 4.69764812e+02]\n",
            " [0.00000000e+00 1.40944409e+03 6.49501425e+02]\n",
            " [0.00000000e+00 0.00000000e+00 1.00000000e+00]]\n",
            "Open3D Camera Intrinsic Parameters:\n",
            "[[1.32332201e+03 0.00000000e+00 4.69764812e+02]\n",
            " [0.00000000e+00 1.40944409e+03 6.49501425e+02]\n",
            " [0.00000000e+00 0.00000000e+00 1.00000000e+00]]\n"
          ]
        }
      ],
      "source": [
        "# with own camera intrinsic parameters\n",
        "import cv2\n",
        "import numpy as np\n",
        "\n",
        "# Camera intrinsic parameters from camera used to get color and depth images - Camera Calibration\n",
        "# Load the camera intrinsic matrix from the .npy file\n",
        "camera_intrinsic = np.load('intrinsic.npy')\n",
        "print(\"Camera Intrinsic Matrix:\")\n",
        "print(camera_intrinsic)\n",
        "\n",
        "# Set the intrinsic camera parameters\n",
        "camera_intrinsic_o3d = o3d.camera.PinholeCameraIntrinsic(\n",
        "    width=640,\n",
        "    height=480,\n",
        "    fx=camera_intrinsic[0][0],  # focal length x\n",
        "    fy=camera_intrinsic[1][1],  # focal length y\n",
        "    cx=camera_intrinsic[0][2],  # principal point x\n",
        "    cy=camera_intrinsic[1][2]   # principal point y\n",
        ")\n",
        "\n",
        "print(\"Open3D Camera Intrinsic Parameters:\")\n",
        "print(camera_intrinsic_o3d.intrinsic_matrix)"
      ]
    },
    {
      "cell_type": "code",
      "execution_count": null,
      "id": "a870a606",
      "metadata": {
        "id": "a870a606",
        "outputId": "4f13f5d3-80bb-4a7b-8548-7c82698796da"
      },
      "outputs": [
        {
          "name": "stdout",
          "output_type": "stream",
          "text": [
            "[Open3D WARNING] GLFW Error: WGL: Failed to make context current: The handle is invalid. \n"
          ]
        }
      ],
      "source": [
        "# Create the point cloud from images and camera intrinsic parameters\n",
        "pcd = o3d.geometry.PointCloud.create_from_rgbd_image(rgbd_image, camera_intrinsic_o3d)\n",
        "\n",
        "# Flip it, otherwise the pointcloud will be upside down\n",
        "pcd.transform([[1, 0, 0, 0], [0, -1, 0, 0], [0, 0, -1, 0], [0, 0, 0, 1]])\n",
        "o3d.visualization.draw_geometries([pcd], zoom=0.5)"
      ]
    },
    {
      "cell_type": "markdown",
      "id": "0232b4e8",
      "metadata": {
        "id": "0232b4e8"
      },
      "source": [
        "ICP Registration"
      ]
    },
    {
      "cell_type": "code",
      "execution_count": null,
      "id": "1e640eb7",
      "metadata": {
        "id": "1e640eb7"
      },
      "outputs": [],
      "source": [
        "import copy\n",
        "def draw_registration_result(source, target, transformation):\n",
        "    source_temp = copy.deepcopy(source)\n",
        "    target_temp = copy.deepcopy(target)\n",
        "    source_temp.paint_uniform_color([1, 0.706, 0])\n",
        "    target_temp.paint_uniform_color([0, 0.651, 0.929])\n",
        "    source_temp.transform(transformation)\n",
        "    o3d.visualization.draw_geometries([source_temp, target_temp],\n",
        "                                    )"
      ]
    },
    {
      "cell_type": "code",
      "execution_count": null,
      "id": "0aff5170",
      "metadata": {
        "id": "0aff5170",
        "outputId": "ecc00179-51ac-4185-b387-afd65450c8b0"
      },
      "outputs": [
        {
          "name": "stdout",
          "output_type": "stream",
          "text": [
            "[Open3D WARNING] GLFW Error: WGL: Failed to make context current: The requested transformation operation is not supported. \n",
            "[Open3D WARNING] GLFW Error: WGL: Failed to make context current: The handle is invalid. \n",
            "[Open3D WARNING] GLFW Error: WGL: Failed to make context current: The handle is invalid. \n",
            "[Open3D WARNING] GLFW Error: WGL: Failed to make context current: The requested transformation operation is not supported. \n",
            "[Open3D WARNING] GLFW Error: WGL: Failed to make context current: The requested transformation operation is not supported. \n",
            "[Open3D WARNING] GLFW Error: WGL: Failed to make context current: The handle is invalid. \n"
          ]
        }
      ],
      "source": [
        "import open3d as o3d\n",
        "import numpy as np\n",
        "\n",
        "# Load point clouds from PCD files\n",
        "source = o3d.io.read_point_cloud(\"fragment_000.ply\")\n",
        "target = o3d.io.read_point_cloud(\"fragment_001.ply\")\n",
        "\n",
        "# Set registration threshold\n",
        "threshold = 0.02\n",
        "\n",
        "# Define initial transformation matrix (4x4 homogeneous transformation)\n",
        "trans_init = np.asarray([[0.862, 0.011, -0.507, 0.5],\n",
        "                        [-0.139, 0.967, -0.215, 0.7],\n",
        "                        [0.487, 0.255, 0.835, -1.4],\n",
        "                        [0.0, 0.0, 0.0, 1.0]])\n",
        "\n",
        "# Visualize the registration result\n",
        "draw_registration_result(source, target, trans_init)"
      ]
    },
    {
      "cell_type": "code",
      "execution_count": null,
      "id": "2cd63f6c",
      "metadata": {
        "id": "2cd63f6c",
        "outputId": "3f6d3063-2404-46ef-a0d1-cd6f39b9e8dd"
      },
      "outputs": [
        {
          "name": "stdout",
          "output_type": "stream",
          "text": [
            "RegistrationResult with fitness=0.000000e+00, inlier_rmse=0.000000e+00, and correspondence_set size of 0\n",
            "Access transformation to get result.\n"
          ]
        }
      ],
      "source": [
        "#because we ta\n",
        "evaluation = o3d.pipelines.registration.evaluate_registration(source, target, threshold, trans_init)\n",
        "print(evaluation)"
      ]
    },
    {
      "cell_type": "code",
      "execution_count": null,
      "id": "8d4e1744",
      "metadata": {
        "id": "8d4e1744",
        "outputId": "e3fed852-03e0-4576-aa28-5ea257f9956c"
      },
      "outputs": [
        {
          "name": "stdout",
          "output_type": "stream",
          "text": [
            "=== Improved Point Cloud Registration ===\n",
            "Choose registration method:\n",
            "1. Full pipeline with visualization\n",
            "2. Full pipeline without visualization\n",
            "3. Quick registration without visualization\n",
            ":: Loading point clouds...\n",
            "Source: 190798 points\n",
            "Target: 207752 points\n",
            ":: Visualizing original point clouds...\n",
            ":: Showing Original Point Clouds. Close window to continue...\n",
            ":: Preprocessing point clouds...\n",
            ":: Preprocessing with voxel size 0.050\n",
            ":: Estimate normal with search radius 0.100\n",
            ":: Preprocessing with voxel size 0.050\n",
            ":: Estimate normal with search radius 0.100\n",
            "Source downsampled: 4856 points\n",
            "Target downsampled: 5183 points\n",
            ":: Computing FPFH features...\n",
            ":: Compute FPFH feature with search radius 0.250\n",
            ":: Compute FPFH feature with search radius 0.250\n",
            ":: Executing global registration...\n",
            ":: RANSAC registration on downsampled point clouds\n",
            "   Since the downsampling voxel size is 0.050,\n",
            "   we use a liberal distance threshold 0.075\n",
            "Global registration - Fitness: 0.7623, RMSE: 0.0208\n",
            ":: Visualizing global registration result...\n",
            ":: Showing Global Registration. Close window to continue...\n",
            "[Open3D WARNING] GLFW Error: WGL: Failed to make context current: The handle is invalid. \n",
            ":: Refining registration with ICP...\n",
            ":: Point-to-plane ICP registration is applied on original point\n",
            "   clouds to refine the alignment. This time we use a strict\n",
            "   distance threshold 0.020\n",
            "Error during registration: [Open3D Error] (class std::tuple<class std::shared_ptr<class open3d::geometry::PointCloud const >,class std::shared_ptr<class open3d::geometry::PointCloud const > > __cdecl open3d::pipelines::registration::TransformationEstimationPointToPlane::InitializePointCloudsForTransformation(const class open3d::geometry::PointCloud &,const class open3d::geometry::PointCloud &,double) const) D:\\a\\Open3D\\Open3D\\cpp\\open3d\\pipelines\\registration\\TransformationEstimation.cpp:120: PointToPlaneICP requires target pointcloud to have normals.\n",
            "\n",
            ":: Registration failed or was interrupted\n"
          ]
        },
        {
          "name": "stderr",
          "output_type": "stream",
          "text": [
            "Traceback (most recent call last):\n",
            "  File \"C:\\Users\\indroneel\\AppData\\Local\\Temp\\ipykernel_15164\\1793258712.py\", line 203, in improved_point_cloud_registration\n",
            "    result_icp = refine_registration(source, target, result_ransac, voxel_size)\n",
            "  File \"C:\\Users\\indroneel\\AppData\\Local\\Temp\\ipykernel_15164\\1793258712.py\", line 57, in refine_registration\n",
            "    result = o3d.pipelines.registration.registration_icp(\n",
            "RuntimeError: [Open3D Error] (class std::tuple<class std::shared_ptr<class open3d::geometry::PointCloud const >,class std::shared_ptr<class open3d::geometry::PointCloud const > > __cdecl open3d::pipelines::registration::TransformationEstimationPointToPlane::InitializePointCloudsForTransformation(const class open3d::geometry::PointCloud &,const class open3d::geometry::PointCloud &,double) const) D:\\a\\Open3D\\Open3D\\cpp\\open3d\\pipelines\\registration\\TransformationEstimation.cpp:120: PointToPlaneICP requires target pointcloud to have normals.\n",
            "\n"
          ]
        }
      ],
      "source": [
        "#improve matching\n",
        "import open3d as o3d\n",
        "import numpy as np\n",
        "import copy\n",
        "import sys\n",
        "\n",
        "def preprocess_point_cloud(pcd, voxel_size):\n",
        "    \"\"\"Preprocess point cloud for better registration\"\"\"\n",
        "    print(f\":: Preprocessing with voxel size {voxel_size:.3f}\")\n",
        "\n",
        "    # Downsample with voxel grid\n",
        "    pcd_down = pcd.voxel_down_sample(voxel_size)\n",
        "\n",
        "    # Estimate normals\n",
        "    radius_normal = voxel_size * 2\n",
        "    print(f\":: Estimate normal with search radius {radius_normal:.3f}\")\n",
        "    pcd_down.estimate_normals(\n",
        "        o3d.geometry.KDTreeSearchParamHybrid(radius=radius_normal, max_nn=30))\n",
        "\n",
        "    # Remove statistical outliers\n",
        "    pcd_clean, _ = pcd_down.remove_statistical_outlier(nb_neighbors=20, std_ratio=2.0)\n",
        "\n",
        "    return pcd_clean\n",
        "\n",
        "def compute_fpfh_feature(pcd, voxel_size):\n",
        "    \"\"\"Compute FPFH features for point cloud\"\"\"\n",
        "    radius_feature = voxel_size * 5\n",
        "    print(f\":: Compute FPFH feature with search radius {radius_feature:.3f}\")\n",
        "    pcd_fpfh = o3d.pipelines.registration.compute_fpfh_feature(\n",
        "        pcd, o3d.geometry.KDTreeSearchParamHybrid(radius=radius_feature, max_nn=100))\n",
        "    return pcd_fpfh\n",
        "\n",
        "def execute_global_registration(source_down, target_down, source_fpfh, target_fpfh, voxel_size):\n",
        "    \"\"\"Execute global registration using RANSAC\"\"\"\n",
        "    distance_threshold = voxel_size * 1.5\n",
        "    print(f\":: RANSAC registration on downsampled point clouds\")\n",
        "    print(f\"   Since the downsampling voxel size is {voxel_size:.3f},\")\n",
        "    print(f\"   we use a liberal distance threshold {distance_threshold:.3f}\")\n",
        "\n",
        "    result = o3d.pipelines.registration.registration_ransac_based_on_feature_matching(\n",
        "        source_down, target_down, source_fpfh, target_fpfh, True,\n",
        "        distance_threshold,\n",
        "        o3d.pipelines.registration.TransformationEstimationPointToPoint(False),\n",
        "        3, [\n",
        "            o3d.pipelines.registration.CorrespondenceCheckerBasedOnEdgeLength(0.9),\n",
        "            o3d.pipelines.registration.CorrespondenceCheckerBasedOnDistance(distance_threshold)\n",
        "        ], o3d.pipelines.registration.RANSACConvergenceCriteria(100000, 0.999))\n",
        "\n",
        "    return result\n",
        "\n",
        "def refine_registration(source, target, result_ransac, voxel_size):\n",
        "    \"\"\"Refine registration using Point-to-Plane ICP\"\"\"\n",
        "    distance_threshold = voxel_size * 0.4\n",
        "    print(f\":: Point-to-plane ICP registration is applied on original point\")\n",
        "    print(f\"   clouds to refine the alignment. This time we use a strict\")\n",
        "    print(f\"   distance threshold {distance_threshold:.3f}\")\n",
        "\n",
        "    result = o3d.pipelines.registration.registration_icp(\n",
        "        source, target, distance_threshold, result_ransac.transformation,\n",
        "        o3d.pipelines.registration.TransformationEstimationPointToPlane())\n",
        "\n",
        "    return result\n",
        "\n",
        "def draw_registration_result_safe(source, target, transformation, window_name=\"Registration Result\"):\n",
        "    \"\"\"Safely visualize registration result with proper error handling\"\"\"\n",
        "    try:\n",
        "        source_temp = copy.deepcopy(source)\n",
        "        target_temp = copy.deepcopy(target)\n",
        "        source_temp.paint_uniform_color([1, 0.706, 0])  # Orange\n",
        "        target_temp.paint_uniform_color([0, 0.651, 0.929])  # Blue\n",
        "        source_temp.transform(transformation)\n",
        "\n",
        "        # Method 1: Simple visualization (recommended)\n",
        "        print(f\":: Showing {window_name}. Close window to continue...\")\n",
        "        o3d.visualization.draw_geometries([source_temp, target_temp],\n",
        "                                        window_name=window_name,\n",
        "                                        width=800, height=600)\n",
        "\n",
        "    except Exception as e:\n",
        "        print(f\"Visualization error: {e}\")\n",
        "        print(\"Continuing without visualization...\")\n",
        "\n",
        "def draw_registration_result_non_blocking(source, target, transformation, window_name=\"Registration Result\"):\n",
        "    \"\"\"Non-blocking visualization using visualizer class\"\"\"\n",
        "    try:\n",
        "        source_temp = copy.deepcopy(source)\n",
        "        target_temp = copy.deepcopy(target)\n",
        "        source_temp.paint_uniform_color([1, 0.706, 0])  # Orange\n",
        "        target_temp.paint_uniform_color([0, 0.651, 0.929])  # Blue\n",
        "        source_temp.transform(transformation)\n",
        "\n",
        "        # Create visualizer\n",
        "        vis = o3d.visualization.Visualizer()\n",
        "        vis.create_window(window_name=window_name, width=800, height=600)\n",
        "\n",
        "        # Add geometries\n",
        "        vis.add_geometry(source_temp)\n",
        "        vis.add_geometry(target_temp)\n",
        "\n",
        "        # Set view control\n",
        "        ctr = vis.get_view_control()\n",
        "        ctr.set_zoom(0.4459)\n",
        "        ctr.set_front([0.9288, -0.2951, -0.2242])\n",
        "        ctr.set_lookat([1.6784, 2.0612, 1.4451])\n",
        "        ctr.set_up([-0.3402, -0.9189, -0.1996])\n",
        "\n",
        "        print(f\":: Showing {window_name}. Close window to continue...\")\n",
        "\n",
        "        # Run visualizer\n",
        "        vis.run()\n",
        "        vis.destroy_window()\n",
        "\n",
        "    except Exception as e:\n",
        "        print(f\"Visualization error: {e}\")\n",
        "        print(\"Continuing without visualization...\")\n",
        "\n",
        "def save_registration_result(source, target, transformation, filename_prefix=\"registration_result\"):\n",
        "    \"\"\"Save registration result to files instead of/in addition to visualization\"\"\"\n",
        "    try:\n",
        "        source_temp = copy.deepcopy(source)\n",
        "        target_temp = copy.deepcopy(target)\n",
        "        source_temp.paint_uniform_color([1, 0.706, 0])  # Orange\n",
        "        target_temp.paint_uniform_color([0, 0.651, 0.929])  # Blue\n",
        "        source_temp.transform(transformation)\n",
        "\n",
        "        # Save individual point clouds\n",
        "        o3d.io.write_point_cloud(f\"{filename_prefix}_source_aligned.ply\", source_temp)\n",
        "        o3d.io.write_point_cloud(f\"{filename_prefix}_target.ply\", target_temp)\n",
        "\n",
        "        # Save combined point cloud\n",
        "        combined = source_temp + target_temp\n",
        "        o3d.io.write_point_cloud(f\"{filename_prefix}_combined.ply\", combined)\n",
        "\n",
        "        print(f\":: Saved registration result to {filename_prefix}_*.ply files\")\n",
        "\n",
        "    except Exception as e:\n",
        "        print(f\"Save error: {e}\")\n",
        "\n",
        "def evaluate_registration(source, target, transformation, threshold):\n",
        "    \"\"\"Evaluate registration quality\"\"\"\n",
        "    source_temp = copy.deepcopy(source)\n",
        "    source_temp.transform(transformation)\n",
        "\n",
        "    evaluation = o3d.pipelines.registration.evaluate_registration(\n",
        "        source_temp, target, threshold)\n",
        "\n",
        "    return evaluation\n",
        "\n",
        "# Main registration pipeline with improved error handling\n",
        "def improved_point_cloud_registration(enable_visualization=True, save_results=True):\n",
        "    \"\"\"Complete improved point cloud registration pipeline\"\"\"\n",
        "\n",
        "    try:\n",
        "        # Load point clouds\n",
        "        print(\":: Loading point clouds...\")\n",
        "        source = o3d.io.read_point_cloud(\"fragment_000.ply\")\n",
        "        target = o3d.io.read_point_cloud(\"fragment_001.ply\")\n",
        "\n",
        "        # Check if point clouds loaded successfully\n",
        "        if len(source.points) == 0 or len(target.points) == 0:\n",
        "            print(\"Error: Could not load point clouds. Check file paths.\")\n",
        "            return None\n",
        "\n",
        "        print(f\"Source: {len(source.points)} points\")\n",
        "        print(f\"Target: {len(target.points)} points\")\n",
        "\n",
        "        # Visualize original point clouds\n",
        "        if enable_visualization:\n",
        "            print(\":: Visualizing original point clouds...\")\n",
        "            draw_registration_result_safe(source, target, np.identity(4), \"Original Point Clouds\")\n",
        "\n",
        "        # Set voxel size (adjust based on your data scale)\n",
        "        voxel_size = 0.05  # Adjust this value based on your point cloud scale\n",
        "\n",
        "        # Preprocess point clouds\n",
        "        print(\":: Preprocessing point clouds...\")\n",
        "        source_down = preprocess_point_cloud(source, voxel_size)\n",
        "        target_down = preprocess_point_cloud(target, voxel_size)\n",
        "\n",
        "        print(f\"Source downsampled: {len(source_down.points)} points\")\n",
        "        print(f\"Target downsampled: {len(target_down.points)} points\")\n",
        "\n",
        "        # Compute features\n",
        "        print(\":: Computing FPFH features...\")\n",
        "        source_fpfh = compute_fpfh_feature(source_down, voxel_size)\n",
        "        target_fpfh = compute_fpfh_feature(target_down, voxel_size)\n",
        "\n",
        "        # Global registration\n",
        "        print(\":: Executing global registration...\")\n",
        "        result_ransac = execute_global_registration(source_down, target_down,\n",
        "                                                  source_fpfh, target_fpfh, voxel_size)\n",
        "\n",
        "        # Evaluate global registration\n",
        "        evaluation = evaluate_registration(source, target, result_ransac.transformation, voxel_size)\n",
        "        print(f\"Global registration - Fitness: {evaluation.fitness:.4f}, RMSE: {evaluation.inlier_rmse:.4f}\")\n",
        "\n",
        "        # Visualize global registration result\n",
        "        if enable_visualization:\n",
        "            print(\":: Visualizing global registration result...\")\n",
        "            draw_registration_result_safe(source, target, result_ransac.transformation, \"Global Registration\")\n",
        "\n",
        "        # Refine with ICP\n",
        "        print(\":: Refining registration with ICP...\")\n",
        "        result_icp = refine_registration(source, target, result_ransac, voxel_size)\n",
        "\n",
        "        # Evaluate refined registration\n",
        "        evaluation_icp = evaluate_registration(source, target, result_icp.transformation, voxel_size * 0.4)\n",
        "        print(f\"ICP registration - Fitness: {evaluation_icp.fitness:.4f}, RMSE: {evaluation_icp.inlier_rmse:.4f}\")\n",
        "\n",
        "        # Visualize final result\n",
        "        if enable_visualization:\n",
        "            print(\":: Visualizing final registration result...\")\n",
        "            draw_registration_result_safe(source, target, result_icp.transformation, \"Final Registration\")\n",
        "\n",
        "        # Save results\n",
        "        if save_results:\n",
        "            save_registration_result(source, target, result_icp.transformation, \"final_registration\")\n",
        "\n",
        "        # Print transformation matrix\n",
        "        print(\":: Final transformation matrix:\")\n",
        "        print(result_icp.transformation)\n",
        "\n",
        "        return result_icp\n",
        "\n",
        "    except KeyboardInterrupt:\n",
        "        print(\"\\n:: Registration interrupted by user\")\n",
        "        return None\n",
        "    except Exception as e:\n",
        "        print(f\"Error during registration: {e}\")\n",
        "        import traceback\n",
        "        traceback.print_exc()\n",
        "        return None\n",
        "\n",
        "\n",
        "\n",
        "# Run the improved registration\n",
        "if __name__ == \"__main__\":\n",
        "    print(\"=== Improved Point Cloud Registration ===\")\n",
        "    print(\"Choose registration method:\")\n",
        "    print(\"1. Full pipeline with visualization\")\n",
        "    print(\"2. Full pipeline without visualization\")\n",
        "\n",
        "\n",
        "    try:\n",
        "        choice = input(\"Enter choice (1-3): \").strip()\n",
        "\n",
        "        if choice == \"1\":\n",
        "            result = improved_point_cloud_registration(enable_visualization=True, save_results=True)\n",
        "        elif choice == \"2\":\n",
        "            result = improved_point_cloud_registration(enable_visualization=False, save_results=True)\n",
        "\n",
        "        else:\n",
        "            print(\"Running full pipeline with visualization (default)\")\n",
        "            result = improved_point_cloud_registration(enable_visualization=True, save_results=True)\n",
        "\n",
        "        if result is not None:\n",
        "            print(\":: Registration completed successfully!\")\n",
        "        else:\n",
        "            print(\":: Registration failed or was interrupted\")\n",
        "\n",
        "    except KeyboardInterrupt:\n",
        "        print(\"\\n:: Program interrupted by user\")\n",
        "        sys.exit(0)\n",
        "    except Exception as e:\n",
        "        print(f\":: Unexpected error: {e}\")\n",
        "        sys.exit(1)"
      ]
    },
    {
      "cell_type": "code",
      "execution_count": null,
      "id": "9eadbc0d",
      "metadata": {
        "id": "9eadbc0d",
        "outputId": "2237ab78-f971-463d-fae8-5c25c744ec8a"
      },
      "outputs": [
        {
          "name": "stdout",
          "output_type": "stream",
          "text": [
            "RegistrationResult with fitness=0.000000e+00, inlier_rmse=0.000000e+00, and correspondence_set size of 0\n",
            "Access transformation to get result.\n",
            "Transformation is:\n",
            "[[ 0.862  0.011 -0.507  0.5  ]\n",
            " [-0.139  0.967 -0.215  0.7  ]\n",
            " [ 0.487  0.255  0.835 -1.4  ]\n",
            " [ 0.     0.     0.     1.   ]]\n",
            "[Open3D WARNING] GLFW Error: WGL: Failed to make context current: The handle is invalid. \n"
          ]
        }
      ],
      "source": [
        "# Point cloud registration using ICP algorithm\n",
        "reg_p2p = o3d.pipelines.registration.registration_icp(\n",
        "    source, target, threshold, trans_init,\n",
        "    o3d.pipelines.registration.TransformationEstimationPointToPoint(),\n",
        "    o3d.pipelines.registration.ICPConvergenceCriteria(max_iteration=2000))\n",
        "\n",
        "print(reg_p2p)\n",
        "print(\"Transformation is:\")\n",
        "print(reg_p2p.transformation)\n",
        "draw_registration_result(source, target, reg_p2p.transformation)"
      ]
    },
    {
      "cell_type": "markdown",
      "id": "58629cbe",
      "metadata": {
        "id": "58629cbe"
      },
      "source": [
        "Include point2point ICP"
      ]
    },
    {
      "cell_type": "code",
      "execution_count": null,
      "id": "8ad6872d",
      "metadata": {
        "id": "8ad6872d",
        "outputId": "74ba50fc-c113-4463-a566-31d01b247b30"
      },
      "outputs": [
        {
          "name": "stdout",
          "output_type": "stream",
          "text": [
            "=== Improved Point Cloud Registration ===\n",
            "Choose registration method:\n",
            "1. Full pipeline with visualization\n",
            "2. Full pipeline without visualization\n",
            "3. Simple Point-to-Point ICP only\n",
            ":: Loading point clouds...\n",
            "Source: 190798 points\n",
            "Target: 207752 points\n",
            ":: Visualizing original point clouds...\n",
            ":: Showing Original Point Clouds. Close window to continue...\n",
            ":: Preprocessing point clouds...\n",
            ":: Preprocessing with voxel size 0.050\n",
            ":: Estimate normal with search radius 0.100\n",
            ":: Preprocessing with voxel size 0.050\n",
            ":: Estimate normal with search radius 0.100\n",
            "Source downsampled: 4856 points\n",
            "Target downsampled: 5183 points\n",
            ":: Computing FPFH features...\n",
            ":: Compute FPFH feature with search radius 0.250\n",
            ":: Compute FPFH feature with search radius 0.250\n",
            ":: Executing global registration...\n",
            ":: RANSAC registration on downsampled point clouds\n",
            "   Since the downsampling voxel size is 0.050,\n",
            "   we use a liberal distance threshold 0.075\n",
            "Global registration - Fitness: 0.7513, RMSE: 0.0228\n",
            ":: Visualizing global registration result...\n",
            ":: Showing Global Registration. Close window to continue...\n",
            "[Open3D WARNING] GLFW Error: WGL: Failed to make context current: The handle is invalid. \n",
            ":: Executing your Point-to-Point ICP registration...\n",
            ":: Point-to-Point ICP registration with threshold 0.020\n",
            "RegistrationResult with fitness=7.559670e-01, inlier_rmse=5.908169e-03, and correspondence_set size of 144237\n",
            "Access transformation to get result.\n",
            "Transformation is:\n",
            "[[ 0.97303995  0.00954781 -0.23043891 -0.0870474 ]\n",
            " [-0.07269651  0.96090866 -0.26715119  0.70572132]\n",
            " [ 0.21888003  0.27670088  0.93569661 -0.07350554]\n",
            " [ 0.          0.          0.          1.        ]]\n",
            ":: Visualizing Point-to-Point ICP result...\n",
            "[Open3D WARNING] GLFW Error: WGL: Failed to make context current: The requested transformation operation is not supported. \n",
            ":: Refining registration with Point-to-Plane ICP...\n",
            ":: Point-to-plane ICP registration is applied on original point\n",
            "   clouds to refine the alignment. This time we use a strict\n",
            "   distance threshold 0.020\n",
            "Error during registration: [Open3D Error] (class std::tuple<class std::shared_ptr<class open3d::geometry::PointCloud const >,class std::shared_ptr<class open3d::geometry::PointCloud const > > __cdecl open3d::pipelines::registration::TransformationEstimationPointToPlane::InitializePointCloudsForTransformation(const class open3d::geometry::PointCloud &,const class open3d::geometry::PointCloud &,double) const) D:\\a\\Open3D\\Open3D\\cpp\\open3d\\pipelines\\registration\\TransformationEstimation.cpp:120: PointToPlaneICP requires target pointcloud to have normals.\n",
            "\n",
            ":: Registration failed or was interrupted\n"
          ]
        },
        {
          "name": "stderr",
          "output_type": "stream",
          "text": [
            "Traceback (most recent call last):\n",
            "  File \"C:\\Users\\indroneel\\AppData\\Local\\Temp\\ipykernel_15164\\1684333343.py\", line 239, in improved_point_cloud_registration\n",
            "    result_icp = refine_registration(source, target, result_ransac, voxel_size)\n",
            "  File \"C:\\Users\\indroneel\\AppData\\Local\\Temp\\ipykernel_15164\\1684333343.py\", line 58, in refine_registration\n",
            "    result = o3d.pipelines.registration.registration_icp(\n",
            "RuntimeError: [Open3D Error] (class std::tuple<class std::shared_ptr<class open3d::geometry::PointCloud const >,class std::shared_ptr<class open3d::geometry::PointCloud const > > __cdecl open3d::pipelines::registration::TransformationEstimationPointToPlane::InitializePointCloudsForTransformation(const class open3d::geometry::PointCloud &,const class open3d::geometry::PointCloud &,double) const) D:\\a\\Open3D\\Open3D\\cpp\\open3d\\pipelines\\registration\\TransformationEstimation.cpp:120: PointToPlaneICP requires target pointcloud to have normals.\n",
            "\n"
          ]
        }
      ],
      "source": [
        "#improve matching\n",
        "import open3d as o3d\n",
        "import numpy as np\n",
        "import copy\n",
        "import sys\n",
        "\n",
        "def preprocess_point_cloud(pcd, voxel_size):\n",
        "    \"\"\"Preprocess point cloud for better registration\"\"\"\n",
        "    print(f\":: Preprocessing with voxel size {voxel_size:.3f}\")\n",
        "\n",
        "    # Downsample with voxel grid\n",
        "    pcd_down = pcd.voxel_down_sample(voxel_size)\n",
        "\n",
        "    # Estimate normals\n",
        "    radius_normal = voxel_size * 2\n",
        "    print(f\":: Estimate normal with search radius {radius_normal:.3f}\")\n",
        "    pcd_down.estimate_normals(\n",
        "        o3d.geometry.KDTreeSearchParamHybrid(radius=radius_normal, max_nn=30))\n",
        "\n",
        "    # Remove statistical outliers\n",
        "    pcd_clean, _ = pcd_down.remove_statistical_outlier(nb_neighbors=20, std_ratio=2.0)\n",
        "\n",
        "    return pcd_clean\n",
        "\n",
        "def compute_fpfh_feature(pcd, voxel_size):\n",
        "    \"\"\"Compute FPFH features for point cloud\"\"\"\n",
        "    radius_feature = voxel_size * 5\n",
        "    print(f\":: Compute FPFH feature with search radius {radius_feature:.3f}\")\n",
        "    pcd_fpfh = o3d.pipelines.registration.compute_fpfh_feature(\n",
        "        pcd, o3d.geometry.KDTreeSearchParamHybrid(radius=radius_feature, max_nn=100))\n",
        "    return pcd_fpfh\n",
        "\n",
        "def execute_global_registration(source_down, target_down, source_fpfh, target_fpfh, voxel_size):\n",
        "    \"\"\"Execute global registration using RANSAC\"\"\"\n",
        "    distance_threshold = voxel_size * 1.5\n",
        "    print(f\":: RANSAC registration on downsampled point clouds\")\n",
        "    print(f\"   Since the downsampling voxel size is {voxel_size:.3f},\")\n",
        "    print(f\"   we use a liberal distance threshold {distance_threshold:.3f}\")\n",
        "\n",
        "    result = o3d.pipelines.registration.registration_ransac_based_on_feature_matching(\n",
        "        source_down, target_down, source_fpfh, target_fpfh, True,\n",
        "        distance_threshold,\n",
        "        o3d.pipelines.registration.TransformationEstimationPointToPoint(False),\n",
        "        3, [\n",
        "            o3d.pipelines.registration.CorrespondenceCheckerBasedOnEdgeLength(0.9),\n",
        "            o3d.pipelines.registration.CorrespondenceCheckerBasedOnDistance(distance_threshold)\n",
        "        ], o3d.pipelines.registration.RANSACConvergenceCriteria(100000, 0.999))\n",
        "\n",
        "    return result\n",
        "\n",
        "def refine_registration(source, target, result_ransac, voxel_size):\n",
        "    \"\"\"Refine registration using Point-to-Plane ICP\"\"\"\n",
        "    distance_threshold = voxel_size * 0.4\n",
        "    print(f\":: Point-to-plane ICP registration is applied on original point\")\n",
        "    print(f\"   clouds to refine the alignment. This time we use a strict\")\n",
        "    print(f\"   distance threshold {distance_threshold:.3f}\")\n",
        "\n",
        "    result = o3d.pipelines.registration.registration_icp(\n",
        "        source, target, distance_threshold, result_ransac.transformation,\n",
        "        o3d.pipelines.registration.TransformationEstimationPointToPlane())\n",
        "\n",
        "    return result\n",
        "\n",
        "def icp_point_to_point_registration(source, target, threshold, trans_init):\n",
        "    \"\"\"Point-to-Point ICP registration with your specific parameters\"\"\"\n",
        "    print(f\":: Point-to-Point ICP registration with threshold {threshold:.3f}\")\n",
        "\n",
        "    reg_p2p = o3d.pipelines.registration.registration_icp(\n",
        "        source, target, threshold, trans_init,\n",
        "        o3d.pipelines.registration.TransformationEstimationPointToPoint(),\n",
        "        o3d.pipelines.registration.ICPConvergenceCriteria(max_iteration=2000))\n",
        "\n",
        "    print(reg_p2p)\n",
        "    print(\"Transformation is:\")\n",
        "    print(reg_p2p.transformation)\n",
        "\n",
        "    return reg_p2p\n",
        "\n",
        "def draw_registration_result(source, target, transformation):\n",
        "    \"\"\"Original draw_registration_result function\"\"\"\n",
        "    source_temp = copy.deepcopy(source)\n",
        "    target_temp = copy.deepcopy(target)\n",
        "    source_temp.paint_uniform_color([1, 0.706, 0])  # Orange\n",
        "    target_temp.paint_uniform_color([0, 0.651, 0.929])  # Blue\n",
        "    source_temp.transform(transformation)\n",
        "    o3d.visualization.draw_geometries([source_temp, target_temp])\n",
        "\n",
        "def draw_registration_result_safe(source, target, transformation, window_name=\"Registration Result\"):\n",
        "    \"\"\"Safely visualize registration result with proper error handling\"\"\"\n",
        "    try:\n",
        "        source_temp = copy.deepcopy(source)\n",
        "        target_temp = copy.deepcopy(target)\n",
        "        source_temp.paint_uniform_color([1, 0.706, 0])  # Orange\n",
        "        target_temp.paint_uniform_color([0, 0.651, 0.929])  # Blue\n",
        "        source_temp.transform(transformation)\n",
        "\n",
        "        # Method 1: Simple visualization (recommended)\n",
        "        print(f\":: Showing {window_name}. Close window to continue...\")\n",
        "        o3d.visualization.draw_geometries([source_temp, target_temp],\n",
        "                                        window_name=window_name,\n",
        "                                        width=800, height=600)\n",
        "\n",
        "    except Exception as e:\n",
        "        print(f\"Visualization error: {e}\")\n",
        "        print(\"Continuing without visualization...\")\n",
        "\n",
        "def draw_registration_result_non_blocking(source, target, transformation, window_name=\"Registration Result\"):\n",
        "    \"\"\"Non-blocking visualization using visualizer class\"\"\"\n",
        "    try:\n",
        "        source_temp = copy.deepcopy(source)\n",
        "        target_temp = copy.deepcopy(target)\n",
        "        source_temp.paint_uniform_color([1, 0.706, 0])  # Orange\n",
        "        target_temp.paint_uniform_color([0, 0.651, 0.929])  # Blue\n",
        "        source_temp.transform(transformation)\n",
        "\n",
        "        # Create visualizer\n",
        "        vis = o3d.visualization.Visualizer()\n",
        "        vis.create_window(window_name=window_name, width=800, height=600)\n",
        "\n",
        "        # Add geometries\n",
        "        vis.add_geometry(source_temp)\n",
        "        vis.add_geometry(target_temp)\n",
        "\n",
        "        # Set view control\n",
        "        ctr = vis.get_view_control()\n",
        "        ctr.set_zoom(0.4459)\n",
        "        ctr.set_front([0.9288, -0.2951, -0.2242])\n",
        "        ctr.set_lookat([1.6784, 2.0612, 1.4451])\n",
        "        ctr.set_up([-0.3402, -0.9189, -0.1996])\n",
        "\n",
        "        print(f\":: Showing {window_name}. Close window to continue...\")\n",
        "\n",
        "        # Run visualizer\n",
        "        vis.run()\n",
        "        vis.destroy_window()\n",
        "\n",
        "    except Exception as e:\n",
        "        print(f\"Visualization error: {e}\")\n",
        "        print(\"Continuing without visualization...\")\n",
        "\n",
        "def save_registration_result(source, target, transformation, filename_prefix=\"registration_result\"):\n",
        "    \"\"\"Save registration result to files instead of/in addition to visualization\"\"\"\n",
        "    try:\n",
        "        source_temp = copy.deepcopy(source)\n",
        "        target_temp = copy.deepcopy(target)\n",
        "        source_temp.paint_uniform_color([1, 0.706, 0])  # Orange\n",
        "        target_temp.paint_uniform_color([0, 0.651, 0.929])  # Blue\n",
        "        source_temp.transform(transformation)\n",
        "\n",
        "        # Save individual point clouds\n",
        "        o3d.io.write_point_cloud(f\"{filename_prefix}_source_aligned.ply\", source_temp)\n",
        "        o3d.io.write_point_cloud(f\"{filename_prefix}_target.ply\", target_temp)\n",
        "\n",
        "        # Save combined point cloud\n",
        "        combined = source_temp + target_temp\n",
        "        o3d.io.write_point_cloud(f\"{filename_prefix}_combined.ply\", combined)\n",
        "\n",
        "        print(f\":: Saved registration result to {filename_prefix}_*.ply files\")\n",
        "\n",
        "    except Exception as e:\n",
        "        print(f\"Save error: {e}\")\n",
        "\n",
        "def evaluate_registration(source, target, transformation, threshold):\n",
        "    \"\"\"Evaluate registration quality\"\"\"\n",
        "    source_temp = copy.deepcopy(source)\n",
        "    source_temp.transform(transformation)\n",
        "\n",
        "    evaluation = o3d.pipelines.registration.evaluate_registration(\n",
        "        source_temp, target, threshold)\n",
        "\n",
        "    return evaluation\n",
        "\n",
        "# Main registration pipeline with improved error handling\n",
        "def improved_point_cloud_registration(enable_visualization=True, save_results=True):\n",
        "    \"\"\"Complete improved point cloud registration pipeline\"\"\"\n",
        "\n",
        "    try:\n",
        "        # Load point clouds\n",
        "        print(\":: Loading point clouds...\")\n",
        "        source = o3d.io.read_point_cloud(\"fragment_000.ply\")\n",
        "        target = o3d.io.read_point_cloud(\"fragment_001.ply\")\n",
        "\n",
        "        # Check if point clouds loaded successfully\n",
        "        if len(source.points) == 0 or len(target.points) == 0:\n",
        "            print(\"Error: Could not load point clouds. Check file paths.\")\n",
        "            return None\n",
        "\n",
        "        print(f\"Source: {len(source.points)} points\")\n",
        "        print(f\"Target: {len(target.points)} points\")\n",
        "\n",
        "        # Visualize original point clouds\n",
        "        if enable_visualization:\n",
        "            print(\":: Visualizing original point clouds...\")\n",
        "            draw_registration_result_safe(source, target, np.identity(4), \"Original Point Clouds\")\n",
        "\n",
        "        # Set voxel size (adjust based on your data scale)\n",
        "        voxel_size = 0.05  # Adjust this value based on your point cloud scale\n",
        "\n",
        "        # Preprocess point clouds\n",
        "        print(\":: Preprocessing point clouds...\")\n",
        "        source_down = preprocess_point_cloud(source, voxel_size)\n",
        "        target_down = preprocess_point_cloud(target, voxel_size)\n",
        "\n",
        "        print(f\"Source downsampled: {len(source_down.points)} points\")\n",
        "        print(f\"Target downsampled: {len(target_down.points)} points\")\n",
        "\n",
        "        # Compute features\n",
        "        print(\":: Computing FPFH features...\")\n",
        "        source_fpfh = compute_fpfh_feature(source_down, voxel_size)\n",
        "        target_fpfh = compute_fpfh_feature(target_down, voxel_size)\n",
        "\n",
        "        # Global registration\n",
        "        print(\":: Executing global registration...\")\n",
        "        result_ransac = execute_global_registration(source_down, target_down,\n",
        "                                                  source_fpfh, target_fpfh, voxel_size)\n",
        "\n",
        "        # Evaluate global registration\n",
        "        evaluation = evaluate_registration(source, target, result_ransac.transformation, voxel_size)\n",
        "        print(f\"Global registration - Fitness: {evaluation.fitness:.4f}, RMSE: {evaluation.inlier_rmse:.4f}\")\n",
        "\n",
        "        # Visualize global registration result\n",
        "        if enable_visualization:\n",
        "            print(\":: Visualizing global registration result...\")\n",
        "            draw_registration_result_safe(source, target, result_ransac.transformation, \"Global Registration\")\n",
        "\n",
        "        # Your specific Point-to-Point ICP registration\n",
        "        print(\":: Executing your Point-to-Point ICP registration...\")\n",
        "        threshold = voxel_size * 0.4\n",
        "        trans_init = result_ransac.transformation\n",
        "        reg_p2p = icp_point_to_point_registration(source, target, threshold, trans_init)\n",
        "\n",
        "        # Visualize your ICP result\n",
        "        if enable_visualization:\n",
        "            print(\":: Visualizing Point-to-Point ICP result...\")\n",
        "            draw_registration_result(source, target, reg_p2p.transformation)\n",
        "\n",
        "        # Refine with Point-to-Plane ICP\n",
        "        print(\":: Refining registration with Point-to-Plane ICP...\")\n",
        "        result_icp = refine_registration(source, target, result_ransac, voxel_size)\n",
        "\n",
        "        # Evaluate refined registration\n",
        "        evaluation_icp = evaluate_registration(source, target, result_icp.transformation, voxel_size * 0.4)\n",
        "        print(f\"Point-to-Plane ICP registration - Fitness: {evaluation_icp.fitness:.4f}, RMSE: {evaluation_icp.inlier_rmse:.4f}\")\n",
        "\n",
        "        # Visualize final result\n",
        "        if enable_visualization:\n",
        "            print(\":: Visualizing final registration result...\")\n",
        "            draw_registration_result_safe(source, target, result_icp.transformation, \"Final Registration\")\n",
        "\n",
        "        # Save results\n",
        "        if save_results:\n",
        "            save_registration_result(source, target, result_icp.transformation, \"final_registration\")\n",
        "\n",
        "        # Print transformation matrix\n",
        "        print(\":: Final transformation matrix:\")\n",
        "        print(result_icp.transformation)\n",
        "\n",
        "        return result_icp\n",
        "\n",
        "    except KeyboardInterrupt:\n",
        "        print(\"\\n:: Registration interrupted by user\")\n",
        "        return None\n",
        "    except Exception as e:\n",
        "        print(f\"Error during registration: {e}\")\n",
        "        import traceback\n",
        "        traceback.print_exc()\n",
        "        return None\n",
        "\n",
        "# Simple function to run just your specific ICP code\n",
        "def run_simple_icp():\n",
        "    \"\"\"Run just the Point-to-Point ICP registration code you provided\"\"\"\n",
        "    try:\n",
        "        # Load point clouds (you may need to adjust file paths)\n",
        "        source = o3d.io.read_point_cloud(\"fragment_000.ply\")\n",
        "        target = o3d.io.read_point_cloud(\"fragment_001.ply\")\n",
        "\n",
        "        # Set parameters\n",
        "        threshold = 0.02  # Adjust based on your data\n",
        "        trans_init = np.identity(4)  # Identity matrix as initial transformation\n",
        "\n",
        "        # Your specific ICP code\n",
        "        reg_p2p = o3d.pipelines.registration.registration_icp(\n",
        "            source, target, threshold, trans_init,\n",
        "            o3d.pipelines.registration.TransformationEstimationPointToPoint(),\n",
        "            o3d.pipelines.registration.ICPConvergenceCriteria(max_iteration=2000))\n",
        "\n",
        "        print(reg_p2p)\n",
        "        print(\"Transformation is:\")\n",
        "        print(reg_p2p.transformation)\n",
        "        draw_registration_result(source, target, reg_p2p.transformation)\n",
        "\n",
        "        return reg_p2p\n",
        "\n",
        "    except Exception as e:\n",
        "        print(f\"Error: {e}\")\n",
        "        return None\n",
        "\n",
        "# Run the improved registration\n",
        "if __name__ == \"__main__\":\n",
        "    print(\"=== Improved Point Cloud Registration ===\")\n",
        "    print(\"Choose registration method:\")\n",
        "    print(\"1. Full pipeline with visualization\")\n",
        "    print(\"2. Full pipeline without visualization\")\n",
        "    print(\"3. Simple Point-to-Point ICP only\")\n",
        "\n",
        "    try:\n",
        "        choice = input(\"Enter choice (1-3): \").strip()\n",
        "\n",
        "        if choice == \"1\":\n",
        "            result = improved_point_cloud_registration(enable_visualization=True, save_results=True)\n",
        "        elif choice == \"2\":\n",
        "            result = improved_point_cloud_registration(enable_visualization=False, save_results=True)\n",
        "        elif choice == \"3\":\n",
        "            result = run_simple_icp()\n",
        "        else:\n",
        "            print(\"Running full pipeline with visualization (default)\")\n",
        "            result = improved_point_cloud_registration(enable_visualization=True, save_results=True)\n",
        "\n",
        "        if result is not None:\n",
        "            print(\":: Registration completed successfully!\")\n",
        "        else:\n",
        "            print(\":: Registration failed or was interrupted\")\n",
        "\n",
        "    except KeyboardInterrupt:\n",
        "        print(\"\\n:: Program interrupted by user\")\n",
        "        sys.exit(0)\n",
        "    except Exception as e:\n",
        "        print(f\":: Unexpected error: {e}\")\n",
        "        sys.exit(1)"
      ]
    },
    {
      "cell_type": "markdown",
      "id": "d069b447",
      "metadata": {
        "id": "d069b447"
      },
      "source": [
        "Global Registration"
      ]
    },
    {
      "cell_type": "code",
      "execution_count": null,
      "id": "616d7ff4",
      "metadata": {
        "id": "616d7ff4"
      },
      "outputs": [],
      "source": [
        "import copy\n",
        "def draw_registration_result(source, target, transformation):\n",
        "    source_temp = copy.deepcopy(source)\n",
        "    target_temp = copy.deepcopy(target)\n",
        "    source_temp.paint_uniform_color([1, 0.706, 0])\n",
        "    target_temp.paint_uniform_color([0, 0.651, 0.929])\n",
        "    source_temp.transform(transformation)\n",
        "    o3d.visualization.draw_geometries([source_temp, target_temp],\n",
        "                                    )"
      ]
    },
    {
      "cell_type": "code",
      "execution_count": null,
      "id": "b69aae3b",
      "metadata": {
        "id": "b69aae3b"
      },
      "outputs": [],
      "source": [
        "def preprocess_point_cloud(pcd, voxel_size):\n",
        "    print(\":: Downsample with a voxel size %.3f.\" % voxel_size)\n",
        "    pcd_down = pcd.voxel_down_sample(voxel_size)\n",
        "\n",
        "    radius_normal = voxel_size * 2\n",
        "    print(\":: Estimate normal with search radius %.3f.\" % radius_normal)\n",
        "    pcd_down.estimate_normals(\n",
        "        o3d.geometry.KDTreeSearchParamHybrid(radius=radius_normal, max_nn=30))\n",
        "\n",
        "    radius_feature = voxel_size * 5\n",
        "    print(\":: Compute FPFH feature with search radius %.3f.\" % radius_feature)\n",
        "    pcd_fpfh = o3d.pipelines.registration.compute_fpfh_feature(\n",
        "        pcd_down,\n",
        "        o3d.geometry.KDTreeSearchParamHybrid(radius=radius_feature, max_nn=100))\n",
        "\n",
        "    return pcd_down, pcd_fpfh\n"
      ]
    },
    {
      "cell_type": "code",
      "execution_count": null,
      "id": "80e6919a",
      "metadata": {
        "id": "80e6919a"
      },
      "outputs": [],
      "source": [
        "def prepare_dataset(voxel_size):\n",
        "    print(\":: Load two point clouds and disturb initial pose.\")\n",
        "    source = o3d.io.read_point_cloud(\"fragment_000.ply\")\n",
        "    target = o3d.io.read_point_cloud(\"fragment_001.ply\")\n",
        "\n",
        "    trans_init = np.asarray([[0.0, 0.0, 1.0, 0.0],\n",
        "                             [1.0, 0.0, 0.0, 0.0],\n",
        "                             [0.0, 1.0, 0.0, 0.0],\n",
        "                             [0.0, 0.0, 0.0, 1.0]])\n",
        "    source.transform(trans_init)\n",
        "    draw_registration_result(source, target, np.identity(4))\n",
        "\n",
        "    source_down, source_fpfh = preprocess_point_cloud(source, voxel_size)\n",
        "    target_down, target_fpfh = preprocess_point_cloud(target, voxel_size)\n",
        "    return source, target, source_down, target_down, source_fpfh, target_fpfh\n"
      ]
    },
    {
      "cell_type": "code",
      "execution_count": null,
      "id": "7d47ceb0",
      "metadata": {
        "id": "7d47ceb0",
        "outputId": "422cf245-ad0a-4784-c000-2ea4cae64207"
      },
      "outputs": [
        {
          "name": "stdout",
          "output_type": "stream",
          "text": [
            ":: Load two point clouds and disturb initial pose.\n",
            "[Open3D WARNING] GLFW Error: WGL: Failed to make context current: The requested transformation operation is not supported. \n",
            "[Open3D WARNING] GLFW Error: WGL: Failed to make context current: The requested transformation operation is not supported. \n",
            ":: Downsample with a voxel size 0.050.\n",
            ":: Estimate normal with search radius 0.100.\n",
            ":: Compute FPFH feature with search radius 0.250.\n",
            ":: Downsample with a voxel size 0.050.\n",
            ":: Estimate normal with search radius 0.100.\n",
            ":: Compute FPFH feature with search radius 0.250.\n"
          ]
        }
      ],
      "source": [
        "voxel_size = 0.05  # means 5cm for this dataset\n",
        "source, target, source_down, target_down, source_fpfh, target_fpfh = prepare_dataset(\n",
        "    voxel_size)\n"
      ]
    },
    {
      "cell_type": "code",
      "execution_count": null,
      "id": "771a0a89",
      "metadata": {
        "id": "771a0a89"
      },
      "outputs": [],
      "source": [
        "def execute_global_registration(source_down, target_down, source_fpfh,\n",
        "                               target_fpfh, voxel_size):\n",
        "    distance_threshold = voxel_size * 1.5\n",
        "    print(\": RANSAC registration on downsampled point clouds.\")\n",
        "    print(\"   Since the downsampling voxel size is %.3f,\" % voxel_size)\n",
        "    print(\"   we use a liberal distance threshold %.3f.\" % distance_threshold)\n",
        "    result = o3d.pipelines.registration.registration_ransac_based_on_feature_matching(\n",
        "        source_down, target_down, source_fpfh, target_fpfh, True,\n",
        "        distance_threshold,\n",
        "        o3d.pipelines.registration.TransformationEstimationPointToPoint(False),\n",
        "        3, [\n",
        "            o3d.pipelines.registration.CorrespondenceCheckerBasedOnEdgeLength(\n",
        "                0.9),\n",
        "            o3d.pipelines.registration.CorrespondenceCheckerBasedOnDistance(\n",
        "                distance_threshold)\n",
        "        ], o3d.pipelines.registration.RANSACConvergenceCriteria(100000, 0.999))\n",
        "    return result"
      ]
    },
    {
      "cell_type": "code",
      "execution_count": null,
      "id": "bb7cabf2",
      "metadata": {
        "id": "bb7cabf2",
        "outputId": "4fdf9b83-398f-4f3b-f5c4-60c1a124988b"
      },
      "outputs": [
        {
          "name": "stdout",
          "output_type": "stream",
          "text": [
            ": RANSAC registration on downsampled point clouds.\n",
            "   Since the downsampling voxel size is 0.050,\n",
            "   we use a liberal distance threshold 0.075.\n",
            "RegistrationResult with fitness=7.831709e-01, inlier_rmse=2.833077e-02, and correspondence_set size of 3937\n",
            "Access transformation to get result.\n",
            "[Open3D WARNING] GLFW Error: WGL: Failed to make context current: The requested transformation operation is not supported. \n",
            "[Open3D WARNING] GLFW Error: WGL: Failed to make context current: The requested transformation operation is not supported. \n",
            "[Open3D WARNING] GLFW Error: WGL: Failed to make context current: The handle is invalid. \n",
            "[Open3D WARNING] GLFW Error: WGL: Failed to make context current: The handle is invalid. \n",
            "[Open3D WARNING] GLFW Error: WGL: Failed to make context current: The requested transformation operation is not supported. \n"
          ]
        }
      ],
      "source": [
        "result_ransac = execute_global_registration(source_down, target_down,\n",
        "                                          source_fpfh, target_fpfh,\n",
        "                                          voxel_size)\n",
        "print(result_ransac)\n",
        "draw_registration_result(source_down, target_down, result_ransac.transformation)"
      ]
    }
  ],
  "metadata": {
    "kernelspec": {
      "display_name": "myenv",
      "language": "python",
      "name": "python3"
    },
    "language_info": {
      "codemirror_mode": {
        "name": "ipython",
        "version": 3
      },
      "file_extension": ".py",
      "mimetype": "text/x-python",
      "name": "python",
      "nbconvert_exporter": "python",
      "pygments_lexer": "ipython3",
      "version": "3.9.5"
    },
    "colab": {
      "provenance": []
    }
  },
  "nbformat": 4,
  "nbformat_minor": 5
}