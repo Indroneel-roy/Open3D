{
 "cells": [
  {
   "cell_type": "code",
   "execution_count": 2,
   "id": "1e04a2a7",
   "metadata": {},
   "outputs": [
    {
     "name": "stdout",
     "output_type": "stream",
     "text": [
      "Jupyter environment detected. Enabling Open3D WebVisualizer.\n",
      "[Open3D INFO] WebRTC GUI backend enabled.\n",
      "[Open3D INFO] WebRTCWindowSystem: HTTP handshake server disabled.\n"
     ]
    }
   ],
   "source": [
    "import open3d as o3d \n",
    "import numpy as np"
   ]
  },
  {
   "cell_type": "code",
   "execution_count": 33,
   "id": "12cec782",
   "metadata": {},
   "outputs": [
    {
     "name": "stdout",
     "output_type": "stream",
     "text": [
      "PointCloud with 190798 points.\n",
      "[[ 2.26171875 -0.09253075  1.47265625]\n",
      " [ 2.25390625 -0.09085231  1.47265625]\n",
      " [ 2.26171875 -0.09179753  1.48046875]\n",
      " ...\n",
      " [ 0.12109375  0.40638293  1.48828125]\n",
      " [ 0.12109375  0.40615749  1.49609375]\n",
      " [ 0.12780817  0.38671875  1.49609375]]\n"
     ]
    }
   ],
   "source": [
    "pcd = o3d.io.read_point_cloud(\"fragment_000.ply\")\n",
    "print(pcd)\n",
    "print(np.asarray(pcd.points))\n",
    "o3d.visualization.draw_geometries([pcd])"
   ]
  },
  {
   "cell_type": "code",
   "execution_count": 15,
   "id": "bb26dee0",
   "metadata": {},
   "outputs": [
    {
     "name": "stdout",
     "output_type": "stream",
     "text": [
      "Original point cloud has 190798 points\n"
     ]
    }
   ],
   "source": [
    "print(\"Original point cloud has\", len(pcd.points), \"points\")\n"
   ]
  },
  {
   "cell_type": "markdown",
   "id": "e2242c0f",
   "metadata": {},
   "source": [
    "DownSample"
   ]
  },
  {
   "cell_type": "code",
   "execution_count": 19,
   "id": "a6c6bed1",
   "metadata": {},
   "outputs": [
    {
     "name": "stdout",
     "output_type": "stream",
     "text": [
      "Downsample the point cloud with a voxel of 0.001\n",
      "[Open3D WARNING] GLFW Error: WGL: Failed to make context current: The requested transformation operation is not supported. \n",
      "[Open3D WARNING] GLFW Error: WGL: Failed to make context current: The requested transformation operation is not supported. \n",
      "[Open3D WARNING] GLFW Error: WGL: Failed to make context current: The requested transformation operation is not supported. \n",
      "[Open3D WARNING] GLFW Error: WGL: Failed to make context current: The handle is invalid. \n"
     ]
    }
   ],
   "source": [
    "import open3d as o3d\n",
    "\n",
    "print(\"Downsample the point cloud with a voxel of 0.001\")\n",
    "downpcd = pcd.voxel_down_sample(voxel_size=0.05)\n",
    "\n",
    "o3d.visualization.draw_geometries(\n",
    "    [downpcd],\n",
    "    zoom=0.8,\n",
    "    front=[0.4257, -0.2125, -0.8795],\n",
    "    lookat=[2.6172, 2.0475, 1.532],\n",
    "    up=[-0.0694, -0.9768, 0.2024]\n",
    ")\n"
   ]
  },
  {
   "cell_type": "markdown",
   "id": "3e256c1c",
   "metadata": {},
   "source": [
    "Vertex Normal Extimation"
   ]
  },
  {
   "cell_type": "code",
   "execution_count": 23,
   "id": "84696e60",
   "metadata": {},
   "outputs": [
    {
     "name": "stdout",
     "output_type": "stream",
     "text": [
      "Recompute the normal of the downsampled point cloud\n",
      "[Open3D WARNING] GLFW Error: WGL: Failed to make context current: The handle is invalid. \n",
      "[Open3D WARNING] GLFW Error: WGL: Failed to make context current: The requested transformation operation is not supported. \n"
     ]
    }
   ],
   "source": [
    "print(\"Recompute the normal of the downsampled point cloud\")\n",
    "\n",
    "downpcd.estimate_normals(\n",
    "    search_param=o3d.geometry.KDTreeSearchParamHybrid(radius=0.1, max_nn=30)\n",
    ")\n",
    "\n",
    "o3d.visualization.draw_geometries(\n",
    "    [downpcd],\n",
    "    # zoom=0.3412,\n",
    "    # front=[0.4257, -0.2125, -0.8795],\n",
    "    # lookat=[2.6172, 2.0475, 1.532],\n",
    "    # up=[-0.0694, -0.9768, 0.2024],\n",
    "    point_show_normal=True\n",
    ")\n"
   ]
  },
  {
   "cell_type": "code",
   "execution_count": 27,
   "id": "0a4a1571",
   "metadata": {},
   "outputs": [
    {
     "name": "stdout",
     "output_type": "stream",
     "text": [
      "Load a polygon volume and use it to crop the original point cloud\n",
      "[Open3D WARNING] The number of points is 0 when creating axis-aligned bounding box.\n"
     ]
    }
   ],
   "source": [
    "print(\"Load a polygon volume and use it to crop the original point cloud\")\n",
    "vol = o3d.visualization.read_selection_polygon_volume(\"croped.json\")\n",
    "chair = vol.crop_point_cloud(pcd)\n",
    "o3d.visualization.draw_geometries([chair],\n",
    "                                zoom=0.7,\n",
    "                                front=[0.5439, -0.2333, -0.8060],\n",
    "                                lookat=[2.4615, 2.1331, 1.338],\n",
    "                                up=[-0.1781, -0.9708, 0.1608])"
   ]
  },
  {
   "cell_type": "code",
   "execution_count": 37,
   "id": "af7115d3",
   "metadata": {},
   "outputs": [],
   "source": [
    "\n",
    "def create_polygon_volume_programmatically():\n",
    "    \"\"\"Create a polygon volume for cropping\"\"\"\n",
    "    print(\"=== Method 3a: Creating Polygon Volume Programmatically ===\")\n",
    "    \n",
    "    # Define 2D polygon points (viewed from above, Z-axis)\n",
    "    polygon_points = np.array([\n",
    "        [1.5, 1.5],  # Bottom-left\n",
    "        [3.5, 1.5],  # Bottom-right\n",
    "        [3.5, 3.0],  # Top-right\n",
    "        [1.5, 3.0]   # Top-left\n",
    "    ])\n",
    "    \n",
    "    # Create SelectionPolygonVolume\n",
    "    vol = o3d.visualization.SelectionPolygonVolume()\n",
    "    vol.bounding_polygon = o3d.utility.Vector2dVector(polygon_points)\n",
    "    vol.axis_max = 2.0      # Maximum height (Z coordinate)\n",
    "    vol.axis_min = 0.5      # Minimum height (Z coordinate)\n",
    "    vol.orthogonal_axis = \"Z\"  # Extrude along Z-axis\n",
    "    \n",
    "    return vol\n",
    "\n",
    "def crop_with_polygon_volume(pcd):\n",
    "    \"\"\"Crop point cloud using polygon volume\"\"\"\n",
    "    print(\"=== Method 3: Polygon Volume Cropping ===\")\n",
    "    \n",
    "    # Create polygon volume\n",
    "    vol = create_polygon_volume_programmatically()\n",
    "    \n",
    "    # Crop the point cloud\n",
    "    cropped_pcd = vol.crop_point_cloud(pcd)\n",
    "    \n",
    "    print(f\"Points before cropping: {len(pcd.points)}\")\n",
    "    print(f\"Points after cropping: {len(cropped_pcd.points)}\")\n",
    "    \n",
    "    # Save polygon volume to JSON for future use\n",
    "    o3d.io.write_selection_polygon_volume(\"my_crop_volume.json\", vol)\n",
    "    print(\"Saved polygon volume to 'my_crop_volume.json'\")\n",
    "    \n",
    "    # Visualize\n",
    "    original_pcd = copy.deepcopy(pcd)\n",
    "    original_pcd.paint_uniform_color([0.5, 0.5, 0.5])\n",
    "    cropped_pcd.paint_uniform_color([0.0, 0.0, 1.0])  # Blue\n",
    "    \n",
    "    o3d.visualization.draw_geometries([original_pcd, cropped_pcd],\n",
    "                                    window_name=\"Polygon Volume Cropping\")\n",
    "    \n",
    "    return cropped_pcd"
   ]
  },
  {
   "cell_type": "code",
   "execution_count": null,
   "id": "9f6b9724",
   "metadata": {},
   "outputs": [
    {
     "name": "stdout",
     "output_type": "stream",
     "text": [
      "Loaded point cloud with 190798 points\n",
      "Showing original point cloud...\n",
      "=== Method 3: Polygon Volume Cropping ===\n",
      "=== Method 3a: Creating Polygon Volume Programmatically ===\n"
     ]
    },
    {
     "ename": "TypeError",
     "evalue": "(): incompatible function arguments. The following argument types are supported:\n    1. (self: open3d.cpu.pybind.visualization.SelectionPolygonVolume, arg0: open3d.cpu.pybind.utility.Vector3dVector) -> None\n\nInvoked with: SelectionPolygonVolume, access its members:\northogonal_axis, bounding_polygon, axis_min, axis_max, std::vector<Eigen::Vector2d> with 4 elements.\nUse numpy.asarray() to access data.\n\nDid you forget to `#include <pybind11/stl.h>`? Or <pybind11/complex.h>,\n<pybind11/functional.h>, <pybind11/chrono.h>, etc. Some automatic\nconversions are optional and require extra headers to be included\nwhen compiling your pybind11 module.",
     "output_type": "error",
     "traceback": [
      "\u001b[1;31m---------------------------------------------------------------------------\u001b[0m",
      "\u001b[1;31mTypeError\u001b[0m                                 Traceback (most recent call last)",
      "Cell \u001b[1;32mIn[38], line 46\u001b[0m\n\u001b[0;32m     44\u001b[0m \u001b[38;5;66;03m# Run the example\u001b[39;00m\n\u001b[0;32m     45\u001b[0m \u001b[38;5;28;01mif\u001b[39;00m \u001b[38;5;18m__name__\u001b[39m \u001b[38;5;241m==\u001b[39m \u001b[38;5;124m\"\u001b[39m\u001b[38;5;124m__main__\u001b[39m\u001b[38;5;124m\"\u001b[39m:\n\u001b[1;32m---> 46\u001b[0m     \u001b[43mmain\u001b[49m\u001b[43m(\u001b[49m\u001b[43m)\u001b[49m\n",
      "Cell \u001b[1;32mIn[38], line 24\u001b[0m, in \u001b[0;36mmain\u001b[1;34m()\u001b[0m\n\u001b[0;32m     19\u001b[0m o3d\u001b[38;5;241m.\u001b[39mvisualization\u001b[38;5;241m.\u001b[39mdraw_geometries([pcd], window_name\u001b[38;5;241m=\u001b[39m\u001b[38;5;124m\"\u001b[39m\u001b[38;5;124mOriginal Point Cloud\u001b[39m\u001b[38;5;124m\"\u001b[39m)\n\u001b[0;32m     21\u001b[0m \u001b[38;5;66;03m# Demonstrate different cropping methods\u001b[39;00m\n\u001b[0;32m     22\u001b[0m \n\u001b[0;32m     23\u001b[0m \u001b[38;5;66;03m# Method 1: Bounding Box\u001b[39;00m\n\u001b[1;32m---> 24\u001b[0m cropped1 \u001b[38;5;241m=\u001b[39m \u001b[43mcrop_with_polygon_volume\u001b[49m\u001b[43m(\u001b[49m\u001b[43mcopy\u001b[49m\u001b[38;5;241;43m.\u001b[39;49m\u001b[43mdeepcopy\u001b[49m\u001b[43m(\u001b[49m\u001b[43mpcd\u001b[49m\u001b[43m)\u001b[49m\u001b[43m)\u001b[49m\n\u001b[0;32m     28\u001b[0m \u001b[38;5;28mprint\u001b[39m(\u001b[38;5;124m\"\u001b[39m\u001b[38;5;124mAll cropping methods demonstrated!\u001b[39m\u001b[38;5;124m\"\u001b[39m)\n",
      "Cell \u001b[1;32mIn[37], line 27\u001b[0m, in \u001b[0;36mcrop_with_polygon_volume\u001b[1;34m(pcd)\u001b[0m\n\u001b[0;32m     24\u001b[0m \u001b[38;5;28mprint\u001b[39m(\u001b[38;5;124m\"\u001b[39m\u001b[38;5;124m=== Method 3: Polygon Volume Cropping ===\u001b[39m\u001b[38;5;124m\"\u001b[39m)\n\u001b[0;32m     26\u001b[0m \u001b[38;5;66;03m# Create polygon volume\u001b[39;00m\n\u001b[1;32m---> 27\u001b[0m vol \u001b[38;5;241m=\u001b[39m \u001b[43mcreate_polygon_volume_programmatically\u001b[49m\u001b[43m(\u001b[49m\u001b[43m)\u001b[49m\n\u001b[0;32m     29\u001b[0m \u001b[38;5;66;03m# Crop the point cloud\u001b[39;00m\n\u001b[0;32m     30\u001b[0m cropped_pcd \u001b[38;5;241m=\u001b[39m vol\u001b[38;5;241m.\u001b[39mcrop_point_cloud(pcd)\n",
      "Cell \u001b[1;32mIn[37], line 15\u001b[0m, in \u001b[0;36mcreate_polygon_volume_programmatically\u001b[1;34m()\u001b[0m\n\u001b[0;32m     13\u001b[0m \u001b[38;5;66;03m# Create SelectionPolygonVolume\u001b[39;00m\n\u001b[0;32m     14\u001b[0m vol \u001b[38;5;241m=\u001b[39m o3d\u001b[38;5;241m.\u001b[39mvisualization\u001b[38;5;241m.\u001b[39mSelectionPolygonVolume()\n\u001b[1;32m---> 15\u001b[0m \u001b[43mvol\u001b[49m\u001b[38;5;241;43m.\u001b[39;49m\u001b[43mbounding_polygon\u001b[49m \u001b[38;5;241m=\u001b[39m o3d\u001b[38;5;241m.\u001b[39mutility\u001b[38;5;241m.\u001b[39mVector2dVector(polygon_points)\n\u001b[0;32m     16\u001b[0m vol\u001b[38;5;241m.\u001b[39maxis_max \u001b[38;5;241m=\u001b[39m \u001b[38;5;241m2.0\u001b[39m      \u001b[38;5;66;03m# Maximum height (Z coordinate)\u001b[39;00m\n\u001b[0;32m     17\u001b[0m vol\u001b[38;5;241m.\u001b[39maxis_min \u001b[38;5;241m=\u001b[39m \u001b[38;5;241m0.5\u001b[39m      \u001b[38;5;66;03m# Minimum height (Z coordinate)\u001b[39;00m\n",
      "\u001b[1;31mTypeError\u001b[0m: (): incompatible function arguments. The following argument types are supported:\n    1. (self: open3d.cpu.pybind.visualization.SelectionPolygonVolume, arg0: open3d.cpu.pybind.utility.Vector3dVector) -> None\n\nInvoked with: SelectionPolygonVolume, access its members:\northogonal_axis, bounding_polygon, axis_min, axis_max, std::vector<Eigen::Vector2d> with 4 elements.\nUse numpy.asarray() to access data.\n\nDid you forget to `#include <pybind11/stl.h>`? Or <pybind11/complex.h>,\n<pybind11/functional.h>, <pybind11/chrono.h>, etc. Some automatic\nconversions are optional and require extra headers to be included\nwhen compiling your pybind11 module."
     ]
    }
   ],
   "source": [
    "def main():\n",
    "    \"\"\"Main function demonstrating all cropping methods\"\"\"\n",
    "    \n",
    "    # Load or create a sample point cloud\n",
    "    # Option 1: Load from file\n",
    "    # pcd = o3d.io.read_point_cloud(\"your_pointcloud.ply\")\n",
    "    \n",
    "    # Option 2: Create sample point cloud for demonstration\n",
    "    print(\"Creating sample point cloud...\")\n",
    "    mesh = o3d.geometry.TriangleMesh.create_box(width=2.0, height=2.0, depth=2.0)\n",
    "    mesh.translate([2.0, 2.0, 1.0])\n",
    "    pcd = mesh.sample_points_uniformly(number_of_points=1000)\n",
    "    pcd.paint_uniform_color([0.7, 0.7, 0.7])\n",
    "    \n",
    "    print(f\"Loaded point cloud with {len(pcd.points)} points\")\n",
    "    \n",
    "    # Show original point cloud\n",
    "    print(\"Showing original point cloud...\")\n",
    "    o3d.visualization.draw_geometries([pcd], window_name=\"Original Point Cloud\")\n",
    "    \n",
    "    \n",
    "    \n",
    "    \n",
    "    print(\"All cropping methods demonstrated!\")\n",
    "\n",
    "# ============================================================================\n",
    "# UTILITY FUNCTIONS\n",
    "# ============================================================================\n",
    "\n",
    "def visualize_crop_region(pcd, crop_geometry):\n",
    "    \"\"\"Visualize point cloud with crop region\"\"\"\n",
    "    crop_geometry.color = [1, 0, 0]  # Red color for crop region\n",
    "    o3d.visualization.draw_geometries([pcd, crop_geometry])\n",
    "\n",
    "def save_cropped_result(cropped_pcd, filename):\n",
    "    \"\"\"Save cropped point cloud to file\"\"\"\n",
    "    o3d.io.write_point_cloud(filename, cropped_pcd)\n",
    "    print(f\"Saved cropped point cloud to {filename}\")\n",
    "\n",
    "# Run the example\n",
    "if __name__ == \"__main__\":\n",
    "    main()"
   ]
  }
 ],
 "metadata": {
  "kernelspec": {
   "display_name": "myenv",
   "language": "python",
   "name": "python3"
  },
  "language_info": {
   "codemirror_mode": {
    "name": "ipython",
    "version": 3
   },
   "file_extension": ".py",
   "mimetype": "text/x-python",
   "name": "python",
   "nbconvert_exporter": "python",
   "pygments_lexer": "ipython3",
   "version": "3.9.5"
  }
 },
 "nbformat": 4,
 "nbformat_minor": 5
}
